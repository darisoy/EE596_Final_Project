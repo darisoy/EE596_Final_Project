{
  "nbformat": 4,
  "nbformat_minor": 0,
  "metadata": {
    "colab": {
      "name": "GAN_room_generator.ipynb",
      "provenance": [],
      "toc_visible": true,
      "authorship_tag": "ABX9TyN04jldWqyepq04UaVFOkXk",
      "include_colab_link": true
    },
    "kernelspec": {
      "name": "python3",
      "display_name": "Python 3"
    },
    "language_info": {
      "name": "python"
    }
  },
  "cells": [
    {
      "cell_type": "markdown",
      "metadata": {
        "id": "view-in-github",
        "colab_type": "text"
      },
      "source": [
        "<a href=\"https://colab.research.google.com/github/darisoy/EE596_Project/blob/main/GAN_room_generator.ipynb\" target=\"_parent\"><img src=\"https://colab.research.google.com/assets/colab-badge.svg\" alt=\"Open In Colab\"/></a>"
      ]
    },
    {
      "cell_type": "markdown",
      "metadata": {
        "id": "uR5djfYSEUN5"
      },
      "source": [
        "# Simple GAN for Creating Furnished Rooms\n",
        "\n",
        "This code implements a simple Deep Convolutional GAN for creating furnished rooms. And uses a custom dataset for training"
      ]
    },
    {
      "cell_type": "markdown",
      "metadata": {
        "id": "g5RuqXD1NP1j"
      },
      "source": [
        "## Setup\n",
        "furnished_dataset is created"
      ]
    },
    {
      "cell_type": "code",
      "metadata": {
        "colab": {
          "base_uri": "https://localhost:8080/"
        },
        "id": "vO92_uqcEVTn",
        "outputId": "bb9664d9-a483-407f-a4da-6dae83f9eae7"
      },
      "source": [
        "# import data\n",
        "!git clone https://github.com/darisoy/EE596_Project.git"
      ],
      "execution_count": null,
      "outputs": [
        {
          "output_type": "stream",
          "text": [
            "Cloning into 'EE596_Project'...\n",
            "remote: Enumerating objects: 3914, done.\u001b[K\n",
            "remote: Counting objects: 100% (3914/3914), done.\u001b[K\n",
            "remote: Compressing objects: 100% (3910/3910), done.\u001b[K\n",
            "remote: Total 3914 (delta 18), reused 3872 (delta 2), pack-reused 0\u001b[K\n",
            "Receiving objects: 100% (3914/3914), 60.73 MiB | 30.08 MiB/s, done.\n",
            "Resolving deltas: 100% (18/18), done.\n"
          ],
          "name": "stdout"
        }
      ]
    },
    {
      "cell_type": "code",
      "metadata": {
        "id": "CLwsmy-UJc7t"
      },
      "source": [
        "# add new directory"
      ],
      "execution_count": null,
      "outputs": []
    },
    {
      "cell_type": "code",
      "metadata": {
        "id": "MkNTH3dDEmiE"
      },
      "source": [
        "import torch\n",
        "from matplotlib import pyplot as plt\n",
        "import numpy as np\n",
        "from torchvision import datasets, transforms\n",
        "from torch.utils.data import DataLoader, Subset"
      ],
      "execution_count": null,
      "outputs": []
    },
    {
      "cell_type": "code",
      "metadata": {
        "id": "qqV5tjLaEy2A"
      },
      "source": [
        "# Define Image Transformation\n",
        "im_size = 300\n",
        "transform = transforms.Compose([transforms.Resize((im_size, im_size)),\n",
        "                                 transforms.ToTensor()]) \n",
        "full_dataset = datasets.ImageFolder('EE596_Project/data/', transform=transform)\n",
        "\n",
        "# Get only furnished images\n",
        "furnished_idxs = []\n",
        "for k, data in enumerate(full_dataset.imgs):\n",
        "  if data[1] == 1:\n",
        "    furnished_idxs.append(k)\n",
        "\n",
        "furnished_dataset = Subset(full_dataset, furnished_idxs)"
      ],
      "execution_count": null,
      "outputs": []
    },
    {
      "cell_type": "markdown",
      "metadata": {
        "id": "3fjabwlXNTCh"
      },
      "source": [
        "## GAN Helper Functions"
      ]
    },
    {
      "cell_type": "code",
      "metadata": {
        "id": "VfJI6Il4KgMc"
      },
      "source": [
        "# Helper functions\n",
        "dtype = torch.cuda.FloatTensor ## UNCOMMENT THIS LINE IF YOU'RE ON A GPU!\n",
        "\n",
        "def show_images(images):\n",
        "    images = np.reshape(images, [images.shape[0], -1])  # images reshape to (batch_size, D)\n",
        "    sqrtn = int(np.ceil(np.sqrt(images.shape[0])))\n",
        "    sqrtimg = int(np.ceil(np.sqrt(images.shape[1])))\n",
        "\n",
        "    fig = plt.figure(figsize=(sqrtn, sqrtn))\n",
        "    gs = gridspec.GridSpec(sqrtn, sqrtn)\n",
        "    gs.update(wspace=0.05, hspace=0.05)\n",
        "\n",
        "    for i, img in enumerate(images):\n",
        "        ax = plt.subplot(gs[i])\n",
        "        plt.axis('off')\n",
        "        ax.set_xticklabels([])\n",
        "        ax.set_yticklabels([])\n",
        "        ax.set_aspect('equal')\n",
        "        plt.imshow(img.reshape([sqrtimg,sqrtimg]))\n",
        "    return \n",
        "\n",
        "def preprocess_img(x):\n",
        "    return 2 * x - 1.0\n",
        "\n",
        "def deprocess_img(x):\n",
        "    return (x + 1.0) / 2.0\n",
        "\n",
        "def rel_error(x,y):\n",
        "    return np.max(np.abs(x - y) / (np.maximum(1e-8, np.abs(x) + np.abs(y))))\n",
        "\n",
        "def count_params(model):\n",
        "    \"\"\"Count the number of parameters in the current graph \"\"\"\n",
        "    param_count = np.sum([np.prod(p.size()) for p in model.parameters()])\n",
        "    return param_count\n",
        "\n",
        "def sample_noise(batch_size, dim):\n",
        "    \"\"\"\n",
        "    Generate a PyTorch Tensor of uniform random noise.\n",
        "\n",
        "    Input:\n",
        "    - batch_size: Integer giving the batch size of noise to generate.\n",
        "    - dim: Integer giving the dimension of noise to generate.\n",
        "    \n",
        "    Output:\n",
        "    - A PyTorch Tensor of shape (batch_size, dim) containing uniform\n",
        "      random noise in the range (-1, 1).\n",
        "    \"\"\"\n",
        "    return torch.FloatTensor(batch_size, dim).uniform_(-1, 1)\n",
        "\n",
        "class Flatten(nn.Module):\n",
        "    def forward(self, x):\n",
        "        N, C, H, W = x.size() # read in N, C, H, W\n",
        "        return x.view(N, -1)  # \"flatten\" the C * H * W values into a single vector per image\n",
        "    \n",
        "class Unflatten(nn.Module):\n",
        "    \"\"\"\n",
        "    An Unflatten module receives an input of shape (N, C*H*W) and reshapes it\n",
        "    to produce an output of shape (N, C, H, W).\n",
        "    \"\"\"\n",
        "    def __init__(self, N=-1, C=128, H=7, W=7):\n",
        "        super(Unflatten, self).__init__()\n",
        "        self.N = N\n",
        "        self.C = C\n",
        "        self.H = H\n",
        "        self.W = W\n",
        "    def forward(self, x):\n",
        "        return x.view(self.N, self.C, self.H, self.W)\n",
        "\n",
        "def initialize_weights(m):\n",
        "    if isinstance(m, nn.Linear) or isinstance(m, nn.ConvTranspose2d):\n",
        "        init.xavier_uniform_(m.weight.data)\n",
        "\n",
        "def bce_loss(input, target):\n",
        "    \"\"\"\n",
        "    Numerically stable version of the binary cross-entropy loss function.\n",
        "\n",
        "    As per https://github.com/pytorch/pytorch/issues/751\n",
        "    See the TensorFlow docs for a derivation of this formula:\n",
        "    https://www.tensorflow.org/api_docs/python/tf/nn/sigmoid_cross_entropy_with_logits\n",
        "\n",
        "    Inputs:\n",
        "    - input: PyTorch Tensor of shape (N, ) giving scores.\n",
        "    - target: PyTorch Tensor of shape (N,) containing 0 and 1 giving targets.\n",
        "\n",
        "    Returns:\n",
        "    - A PyTorch Tensor containing the mean BCE loss over the minibatch of input data.\n",
        "    \"\"\"\n",
        "    neg_abs = - input.abs()\n",
        "    loss = input.clamp(min=0) - input * target + (1 + neg_abs.exp()).log()\n",
        "    return loss.mean()\n",
        "\n",
        "def discriminator_loss(logits_real, logits_fake):\n",
        "    \"\"\"\n",
        "    Computes the discriminator loss described above.\n",
        "    Inputs:\n",
        "    - logits_real: PyTorch Tensor of shape (N,) giving scores for the real data.\n",
        "    - logits_fake: PyTorch Tensor of shape (N,) giving scores for the fake data.\n",
        "    Returns:\n",
        "    - loss: PyTorch Tensor containing (scalar) the loss for the discriminator.\n",
        "    \"\"\"\n",
        "    N, _ = logits_real.size() \n",
        "    loss = (bce_loss(logits_real, torch.ones(N).type(dtype)))+(bce_loss(logits_fake, torch.zeros(N).type(dtype)))\n",
        "    return loss\n",
        "\n",
        "\n",
        "def generator_loss(logits_fake):\n",
        "    \"\"\"\n",
        "    Computes the generator loss described above.\n",
        "    Inputs:\n",
        "    - logits_fake: PyTorch Tensor of shape (N,) giving scores for the fake data.\n",
        "    Returns:\n",
        "    - loss: PyTorch Tensor containing the (scalar) loss for the generator.\n",
        "    \"\"\"\n",
        "    N, _ = logits_fake.size()\n",
        "    loss = (bce_loss(logits_fake, torch.ones(N).type(dtype)))\n",
        "    return loss\n",
        "\n",
        "def get_optimizer(model):\n",
        "    \"\"\"\n",
        "    Construct and return an Adam optimizer for the model with learning rate 1e-3,\n",
        "    beta1=0.5, and beta2=0.999.\n",
        "    \n",
        "    Input:\n",
        "    - model: A PyTorch model that we want to optimize.\n",
        "    \n",
        "    Returns:\n",
        "    - An Adam optimizer for the model with the desired hyperparameters.\n",
        "    \"\"\"\n",
        "    optimizer = optim.Adam(model.parameters(), lr = 1e-3, betas = (0.5,0.999))\n",
        "    return optimizer\n",
        "\n",
        "def run_a_gan(D, G, D_solver, G_solver, discriminator_loss, generator_loss, show_every=250, \n",
        "              batch_size=128, noise_size=96, num_epochs=10):\n",
        "    \"\"\"\n",
        "    Train a GAN!\n",
        "    \n",
        "    Inputs:\n",
        "    - D, G: PyTorch models for the discriminator and generator\n",
        "    - D_solver, G_solver: torch.optim Optimizers to use for training the\n",
        "      discriminator and generator.\n",
        "    - discriminator_loss, generator_loss: Functions to use for computing the generator and\n",
        "      discriminator loss, respectively.\n",
        "    - show_every: Show samples after every show_every iterations.\n",
        "    - batch_size: Batch size to use for training.\n",
        "    - noise_size: Dimension of the noise to use as input to the generator.\n",
        "    - num_epochs: Number of epochs over the training dataset to use for training.\n",
        "    \"\"\"\n",
        "    iter_count = 0\n",
        "    for epoch in range(num_epochs):\n",
        "        for x, _ in loader_train:\n",
        "            if len(x) != batch_size:\n",
        "                continue\n",
        "            D_solver.zero_grad()\n",
        "            real_data = x.type(dtype)\n",
        "            logits_real = D(2* (real_data - 0.5)).type(dtype)\n",
        "            \n",
        "            g_fake_seed = sample_noise(batch_size, noise_size).type(dtype)\n",
        "            fake_images = G(g_fake_seed).detach()\n",
        "            logits_fake = D(fake_images.view(batch_size, 1, 28, 28))\n",
        "\n",
        "            d_total_error = discriminator_loss(logits_real, logits_fake)\n",
        "            d_total_error.backward()        \n",
        "            D_solver.step()\n",
        "\n",
        "            G_solver.zero_grad()\n",
        "            g_fake_seed = sample_noise(batch_size, noise_size).type(dtype)\n",
        "            fake_images = G(g_fake_seed)\n",
        "\n",
        "            gen_logits_fake = D(fake_images.view(batch_size, 1, 28, 28))\n",
        "            g_error = generator_loss(gen_logits_fake)\n",
        "            g_error.backward()\n",
        "            G_solver.step()\n",
        "\n",
        "            if (iter_count % show_every == 0):\n",
        "                print('Iter: {}, D: {:.4}, G:{:.4}'.format(iter_count,d_total_error.item(),g_error.item()))\n",
        "                imgs_numpy = fake_images.data.cpu().numpy()\n",
        "                show_images(imgs_numpy[0:16])\n",
        "                plt.show()\n",
        "                print()\n",
        "            iter_count += 1"
      ],
      "execution_count": null,
      "outputs": []
    },
    {
      "cell_type": "code",
      "metadata": {
        "id": "w-mvjgVRNOXN"
      },
      "source": [
        "def build_dc_classifier():\n",
        "    \"\"\"\n",
        "    Build and return a PyTorch model for the DCGAN discriminator implementing\n",
        "    the architecture above.\n",
        "    \"\"\"\n",
        "    class View(nn.Module):\n",
        "      def __init__(self, shape):\n",
        "        super(View, self).__init__()\n",
        "        self.shape = shape\n",
        "\n",
        "      def forward(self, x):\n",
        "        return x.view(*self.shape)\n",
        "    \n",
        "    \n",
        "    model = nn.Sequential(\n",
        "      nn.Conv2d(1,32,5,1),\n",
        "      nn.LeakyReLU(0.01),\n",
        "      nn.MaxPool2d(2,2),\n",
        "      nn.Conv2d(32,64,5,1),\n",
        "      nn.LeakyReLU(0.01),\n",
        "      nn.MaxPool2d(2,2),\n",
        "      View((128,64*4*4)),\n",
        "      nn.Linear(4*4*64, 4*4*64),\n",
        "      nn.LeakyReLU(0.01),\n",
        "      nn.Linear(1024,1)\n",
        "\n",
        "    )\n",
        "    return model\n",
        "\n",
        "data = next(enumerate(loader_train))[-1][0].type(dtype)\n",
        "print('Input Size:',data.size())\n",
        "b = build_dc_classifier().type(dtype)\n",
        "out = b(data)\n",
        "print('Output Size and Value:', out.size(), out[0].item())"
      ],
      "execution_count": null,
      "outputs": []
    },
    {
      "cell_type": "markdown",
      "metadata": {
        "id": "IWt6u1znQulo"
      },
      "source": [
        "## Define GAN"
      ]
    },
    {
      "cell_type": "code",
      "metadata": {
        "id": "gBw-M9OmNOVo"
      },
      "source": [
        "def build_dc_generator(noise_dim=NOISE_DIM):\n",
        "    \"\"\"\n",
        "    Build and return a PyTorch model implementing the DCGAN generator using\n",
        "    the architecture described above.\n",
        "    \"\"\"\n",
        "    class View(nn.Module):\n",
        "      def __init__(self, shape):\n",
        "        super(View, self).__init__()\n",
        "        self.shape = shape\n",
        "\n",
        "      def forward(self, x):\n",
        "        return x.view(*self.shape)\n",
        "\n",
        "    model = nn.Sequential(\n",
        "      nn.Linear(96,1024),\n",
        "      nn.ReLU(inplace=True),\n",
        "      nn.BatchNorm1d(1024),\n",
        "      nn.Linear(1024,7*7*128),\n",
        "      nn.ReLU(inplace=True),\n",
        "      View((batch_size, 128, 7,7)),\n",
        "      nn.ConvTranspose2d(128,64,4,2,padding=1),\n",
        "      nn.ReLU(inplace=True),\n",
        "      nn.BatchNorm2d(64),\n",
        "      nn.ConvTranspose2d(64,1,4,2,padding=1),\n",
        "      nn.Tanh(),\n",
        "      View((batch_size, 28*28))\n",
        "    )\n",
        "    return model\n",
        "\n",
        "test_g_gan = build_dc_generator().type(dtype)\n",
        "test_g_gan.apply(initialize_weights)\n",
        "\n",
        "fake_seed = torch.randn(batch_size, NOISE_DIM).type(dtype)\n",
        "fake_images = test_g_gan.forward(fake_seed)\n",
        "fake_images.size()"
      ],
      "execution_count": null,
      "outputs": []
    },
    {
      "cell_type": "code",
      "metadata": {
        "id": "TFm9QirxNOTd"
      },
      "source": [
        "D_DC = build_dc_classifier().type(dtype) \n",
        "D_DC.apply(initialize_weights)\n",
        "G_DC = build_dc_generator().type(dtype)\n",
        "G_DC.apply(initialize_weights)\n",
        "\n",
        "D_DC_solver = get_optimizer(D_DC)\n",
        "G_DC_solver = get_optimizer(G_DC)\n",
        "\n",
        "run_a_gan(D_DC, G_DC, D_DC_solver, G_DC_solver, discriminator_loss, generator_loss, num_epochs=5)"
      ],
      "execution_count": null,
      "outputs": []
    },
    {
      "cell_type": "code",
      "metadata": {
        "id": "ODDzu5sVNORM"
      },
      "source": [
        ""
      ],
      "execution_count": null,
      "outputs": []
    },
    {
      "cell_type": "code",
      "metadata": {
        "id": "nzeS0fToNOO6"
      },
      "source": [
        ""
      ],
      "execution_count": null,
      "outputs": []
    },
    {
      "cell_type": "markdown",
      "metadata": {
        "id": "JSB__I1wO30U"
      },
      "source": [
        "## Archive"
      ]
    },
    {
      "cell_type": "code",
      "metadata": {
        "id": "sIKBoWfDNODf"
      },
      "source": [
        ""
      ],
      "execution_count": null,
      "outputs": []
    },
    {
      "cell_type": "code",
      "metadata": {
        "id": "XeVvy_zvL_Ue"
      },
      "source": [
        ""
      ],
      "execution_count": null,
      "outputs": []
    },
    {
      "cell_type": "code",
      "metadata": {
        "id": "RD4ps7DXGVqw"
      },
      "source": [
        "train_loader = torch.utils.data.DataLoader(furnished_dataset, batch_size=32, shuffle=True)"
      ],
      "execution_count": null,
      "outputs": []
    },
    {
      "cell_type": "code",
      "metadata": {
        "id": "ayMtjhRhG5bn"
      },
      "source": [
        "for train in train_loader:\n",
        "  break"
      ],
      "execution_count": null,
      "outputs": []
    },
    {
      "cell_type": "code",
      "metadata": {
        "colab": {
          "base_uri": "https://localhost:8080/",
          "height": 286
        },
        "id": "2On4QdlcIzom",
        "outputId": "b0acc881-a7ec-4273-ae6e-6aa82a350211"
      },
      "source": [
        "plt.imshow(train[0][14,:,:,:].permute(1,2,0))"
      ],
      "execution_count": null,
      "outputs": [
        {
          "output_type": "execute_result",
          "data": {
            "text/plain": [
              "<matplotlib.image.AxesImage at 0x7ff2920bc850>"
            ]
          },
          "metadata": {
            "tags": []
          },
          "execution_count": 77
        },
        {
          "output_type": "display_data",
          "data": {
            "image/png": "[encoded data removed]",
            "text/plain": [
              "<Figure size 432x288 with 1 Axes>"
            ]
          },
          "metadata": {
            "tags": [],
            "needs_background": "light"
          }
        }
      ]
    },
    {
      "cell_type": "code",
      "metadata": {
        "colab": {
          "base_uri": "https://localhost:8080/"
        },
        "id": "glkKxjdjI7sU",
        "outputId": "04999ebe-5568-4ef9-8547-551b344d59b3"
      },
      "source": [
        "train[1]"
      ],
      "execution_count": null,
      "outputs": [
        {
          "output_type": "execute_result",
          "data": {
            "text/plain": [
              "tensor([2, 2, 0, 0, 2, 0, 0, 2, 2, 1, 1, 0, 1, 1, 0, 2, 2, 2, 1, 1, 0, 0, 2, 2,\n",
              "        2, 2, 0, 0, 1, 1, 0, 1])"
            ]
          },
          "metadata": {
            "tags": []
          },
          "execution_count": 33
        }
      ]
    },
    {
      "cell_type": "code",
      "metadata": {
        "id": "PMCS_VLeJOBJ"
      },
      "source": [
        ""
      ],
      "execution_count": null,
      "outputs": []
    }
  ]
}